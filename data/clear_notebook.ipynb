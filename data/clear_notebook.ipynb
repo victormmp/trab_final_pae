{
 "cells": [
  {
   "cell_type": "code",
   "execution_count": 29,
   "metadata": {},
   "outputs": [],
   "source": [
    "import csv\n",
    "import pandas as pd\n",
    "\n",
    "with open(\"amazon.csv\") as file:\n",
    "    reader = csv.reader(file)\n",
    "    header = reader.__next__()\n",
    "    lines = []\n",
    "    for row in reader:\n",
    "        new_row = []\n",
    "        for item in row:\n",
    "            item = item.replace('.','')\n",
    "            new_row.append(item)\n",
    "        lines.append(new_row)\n",
    "\n",
    "data = pd.DataFrame(lines, columns=header)"
   ]
  },
  {
   "cell_type": "code",
   "execution_count": 32,
   "metadata": {},
   "outputs": [],
   "source": [
    "with open('clear_amazon.csv', 'w') as file:\n",
    "    data.to_csv(file)"
   ]
  }
 ],
 "metadata": {
  "kernelspec": {
   "display_name": "Python 3",
   "language": "python",
   "name": "python3"
  },
  "language_info": {
   "codemirror_mode": {
    "name": "ipython",
    "version": 3
   },
   "file_extension": ".py",
   "mimetype": "text/x-python",
   "name": "python",
   "nbconvert_exporter": "python",
   "pygments_lexer": "ipython3",
   "version": "3.7.5"
  }
 },
 "nbformat": 4,
 "nbformat_minor": 2
}
